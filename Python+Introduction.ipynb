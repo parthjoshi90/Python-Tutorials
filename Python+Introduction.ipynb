{
 "cells": [
  {
   "cell_type": "markdown",
   "metadata": {},
   "source": [
    "## Introduction to Programming"
   ]
  },
  {
   "cell_type": "markdown",
   "metadata": {},
   "source": [
    "<p>I categorize programming as an Art like any other art. You need to work on it if you want be the master in it.It is also a good pletform on which you can express your thoughts process. As being a engineer my self i think if you want to be a good programmer you need to think like certain way. Let's see what some thinkers has to say about programming.</p>\n",
    "\n",
    "<blockquote><b>“Everybody in this country should learn to program a computer, because it teaches you how to think\"<br><h3> by Steve Jobs</h3> </blockquote>"
   ]
  },
  {
   "cell_type": "markdown",
   "metadata": {},
   "source": [
    "## Introduction to Python"
   ]
  },
  {
   "cell_type": "markdown",
   "metadata": {},
   "source": [
    "<p>The Python programming language was created in 1991 by Guido van Rossum. Let's start by this quote by non other then the creator of the python language.</p>\n",
    "<blockquote><b>Now, it's my belief that Python is a lot easier than to teach to students programming and teach them C or C++ or Java at the same time because all the details of the languages are so much harder. Other scripting languages really don't work very well there either. \n",
    "<br><h3>by Guido van Rossum</h3></blockquote>\n",
    "<p>I chose python because of its simplicity and broad usage across all the fields i have seen till now. Python is a very elegant and handy when you want to start your journy as a programmer as it gives you a bunch of modules which are very helpfull.Python is high level,Object-Oriented Programming Language.Unlike other classical Programming Languages python is interpreted (Scripting) Language. Now rather going in the detail of why python is so populer among the Computer Science Community lest dive into it let's have python itself show you why it is so. when you open your terminal and write your first import that will tell you the detail regarding the language. so write below in the terminal after typing 'python' ('command line' in the case of windows operating system). Here, I am using Python 3.5.* and above version. </p>"
   ]
  },
  {
   "cell_type": "code",
   "execution_count": 34,
   "metadata": {},
   "outputs": [
    {
     "name": "stdout",
     "output_type": "stream",
     "text": [
      "The Zen of Python, by Tim Peters\n",
      "\n",
      "Beautiful is better than ugly.\n",
      "Explicit is better than implicit.\n",
      "Simple is better than complex.\n",
      "Complex is better than complicated.\n",
      "Flat is better than nested.\n",
      "Sparse is better than dense.\n",
      "Readability counts.\n",
      "Special cases aren't special enough to break the rules.\n",
      "Although practicality beats purity.\n",
      "Errors should never pass silently.\n",
      "Unless explicitly silenced.\n",
      "In the face of ambiguity, refuse the temptation to guess.\n",
      "There should be one-- and preferably only one --obvious way to do it.\n",
      "Although that way may not be obvious at first unless you're Dutch.\n",
      "Now is better than never.\n",
      "Although never is often better than *right* now.\n",
      "If the implementation is hard to explain, it's a bad idea.\n",
      "If the implementation is easy to explain, it may be a good idea.\n",
      "Namespaces are one honking great idea -- let's do more of those!\n"
     ]
    }
   ],
   "source": [
    "import this"
   ]
  },
  {
   "cell_type": "markdown",
   "metadata": {},
   "source": [
    "## Some fetures Of Python"
   ]
  },
  {
   "cell_type": "markdown",
   "metadata": {},
   "source": [
    "<ol>\n",
    "<li>Simple to Learn and code</li>\n",
    "<li>Interpreted</li>\n",
    "<li>Object-Oriented in Nature</li>\n",
    "<li>Dynamic typing</li>\n",
    "<li>Robust</li>\n",
    "<li>Exception Handling</li>\n",
    "<li>High Performance with respect to other Languages</li>\n",
    "</ol>"
   ]
  },
  {
   "cell_type": "markdown",
   "metadata": {},
   "source": [
    "### 1. Simple to Learn and code"
   ]
  },
  {
   "cell_type": "code",
   "execution_count": 3,
   "metadata": {},
   "outputs": [
    {
     "name": "stdout",
     "output_type": "stream",
     "text": [
      "10\n",
      "3.75\n",
      "HelloWorld\n"
     ]
    }
   ],
   "source": [
    "def do_add(a,b):\n",
    "    add = a + b\n",
    "    return add\n",
    "\n",
    "print(do_add(2,8))\n",
    "print(do_add(2.5,1.25))\n",
    "print(do_add(\"Hello\",\"World\"))"
   ]
  },
  {
   "cell_type": "markdown",
   "metadata": {},
   "source": [
    "<p> Look how simple is to code in Python, by just one function providing a different argument we get different output.</p>"
   ]
  },
  {
   "cell_type": "markdown",
   "metadata": {},
   "source": [
    "### 2. Interpreted"
   ]
  },
  {
   "cell_type": "markdown",
   "metadata": {},
   "source": [
    "<p>Python gives us the facility that we can do normal numerical calculations as it is interpreted without doing anything. Let's look at it as below:</p>  "
   ]
  },
  {
   "cell_type": "code",
   "execution_count": 4,
   "metadata": {},
   "outputs": [
    {
     "data": {
      "text/plain": [
       "5"
      ]
     },
     "execution_count": 4,
     "metadata": {},
     "output_type": "execute_result"
    }
   ],
   "source": [
    "2+3"
   ]
  },
  {
   "cell_type": "code",
   "execution_count": 5,
   "metadata": {},
   "outputs": [
    {
     "data": {
      "text/plain": [
       "20"
      ]
     },
     "execution_count": 5,
     "metadata": {},
     "output_type": "execute_result"
    }
   ],
   "source": [
    "4*5"
   ]
  },
  {
   "cell_type": "code",
   "execution_count": 6,
   "metadata": {},
   "outputs": [
    {
     "data": {
      "text/plain": [
       "16"
      ]
     },
     "execution_count": 6,
     "metadata": {},
     "output_type": "execute_result"
    }
   ],
   "source": [
    "4**2"
   ]
  },
  {
   "cell_type": "code",
   "execution_count": 7,
   "metadata": {},
   "outputs": [
    {
     "data": {
      "text/plain": [
       "4.5"
      ]
     },
     "execution_count": 7,
     "metadata": {},
     "output_type": "execute_result"
    }
   ],
   "source": [
    "9/2"
   ]
  },
  {
   "cell_type": "code",
   "execution_count": 8,
   "metadata": {},
   "outputs": [
    {
     "data": {
      "text/plain": [
       "4"
      ]
     },
     "execution_count": 8,
     "metadata": {},
     "output_type": "execute_result"
    }
   ],
   "source": [
    "9//2"
   ]
  },
  {
   "cell_type": "markdown",
   "metadata": {},
   "source": [
    "<p>So as we have seen above thet python works perfectly when using it for the numeric calculations. as we can see that operator '//' is rounding of the answer. Other new operator is '<text font-size=12 >**</text>' is basically doing the sqare of the number on the left side of the operator.</p>"
   ]
  },
  {
   "cell_type": "markdown",
   "metadata": {},
   "source": [
    "### 3. Object-Oriented in Nature"
   ]
  },
  {
   "cell_type": "code",
   "execution_count": 23,
   "metadata": {},
   "outputs": [],
   "source": [
    "class Bag:\n",
    "    def __init__(self):\n",
    "        self.data = []\n",
    "\n",
    "    def add(self, x):\n",
    "        self.data.append(x)\n",
    "\n",
    "    def addtwice(self, x):\n",
    "        self.add(x)\n",
    "        self.add(x)\n",
    "    \n",
    "    def print(self):\n",
    "        for i in self.data:\n",
    "            print(i)"
   ]
  },
  {
   "cell_type": "code",
   "execution_count": 25,
   "metadata": {},
   "outputs": [
    {
     "name": "stdout",
     "output_type": "stream",
     "text": [
      "10\n",
      "20\n",
      "20\n",
      "square\n",
      "triangle\n",
      "circle\n"
     ]
    }
   ],
   "source": [
    "num = Bag()\n",
    "num.add(10)\n",
    "num.addtwice(20)\n",
    "num.print()\n",
    "\n",
    "shape = Bag()\n",
    "shape.add('square')\n",
    "shape.add('triangle')\n",
    "shape.add('circle')\n",
    "shape.print()"
   ]
  },
  {
   "cell_type": "markdown",
   "metadata": {},
   "source": [
    "<p>Here i made class which takes values from user and store it into the list. i will cover more advance topic related to this in fuature.</p>"
   ]
  },
  {
   "cell_type": "markdown",
   "metadata": {},
   "source": [
    "### 4. Dynamic typing"
   ]
  },
  {
   "cell_type": "code",
   "execution_count": 31,
   "metadata": {},
   "outputs": [
    {
     "name": "stdout",
     "output_type": "stream",
     "text": [
      "4 5 2 6\n",
      "[['4', '5', '2', '6']]\n"
     ]
    }
   ],
   "source": [
    "num = [input().strip().split()]\n",
    "print(num)"
   ]
  },
  {
   "cell_type": "markdown",
   "metadata": {},
   "source": [
    "<p>Python is Dynamic typing in the sense that we don't need to specify datatype for the variable or the data structure like List.</p>"
   ]
  },
  {
   "cell_type": "markdown",
   "metadata": {},
   "source": [
    "### 5. Robust "
   ]
  },
  {
   "cell_type": "markdown",
   "metadata": {},
   "source": [
    "<p>Python provides run-time environment that is very robust. Errors are raised as exceptions, that allows the programs to catch and handle a variety of conditions. All Python language mistakes lead to simple, easy-to-interpret error messages from exceptions.</p>"
   ]
  },
  {
   "cell_type": "markdown",
   "metadata": {},
   "source": [
    "### 6.  Exception Handling"
   ]
  },
  {
   "cell_type": "markdown",
   "metadata": {},
   "source": [
    "<p>Python has exceptions, and a sophisticated \"try\" statement that handles exceptions. Below example demonstrate the Pythonic way to handle the error.</p>"
   ]
  },
  {
   "cell_type": "code",
   "execution_count": 33,
   "metadata": {},
   "outputs": [
    {
     "name": "stdout",
     "output_type": "stream",
     "text": [
      "Please enter a number: k\n",
      "Oops!  That was no valid number.  Try again...\n",
      "Please enter a number: 4\n"
     ]
    }
   ],
   "source": [
    "while True:\n",
    "    try:\n",
    "        x = int(input(\"Please enter a number: \"))\n",
    "        break\n",
    "    except ValueError:\n",
    "        print(\"Oops!  That was no valid number.  Try again...\")"
   ]
  },
  {
   "cell_type": "markdown",
   "metadata": {},
   "source": [
    "### 7. High Performance with respect to other Languages"
   ]
  },
  {
   "cell_type": "markdown",
   "metadata": {},
   "source": [
    "<p>The Python interpreter is quite fast. We don't need to compile the code. However, where necessary, a class or module that is slow we can implement it in C or C++, that will reduce the time and improves performance.</p>"
   ]
  },
  {
   "cell_type": "markdown",
   "metadata": {},
   "source": [
    "<p>Here We start the python by printing \"Hello World!\" on standerd output as we usally do in any other programing Language. It is very easy in the python. Print() in python is a built in function. Let's see some examples.</p>"
   ]
  },
  {
   "cell_type": "code",
   "execution_count": 9,
   "metadata": {},
   "outputs": [
    {
     "data": {
      "text/plain": [
       "builtin_function_or_method"
      ]
     },
     "execution_count": 9,
     "metadata": {},
     "output_type": "execute_result"
    }
   ],
   "source": [
    "type(print)"
   ]
  },
  {
   "cell_type": "code",
   "execution_count": 10,
   "metadata": {},
   "outputs": [
    {
     "name": "stdout",
     "output_type": "stream",
     "text": [
      "Hello World!\n"
     ]
    }
   ],
   "source": [
    "print(\"Hello World!\")"
   ]
  },
  {
   "cell_type": "code",
   "execution_count": 11,
   "metadata": {},
   "outputs": [
    {
     "name": "stdout",
     "output_type": "stream",
     "text": [
      "I like Computer Science I am a programmer Good Bye..."
     ]
    }
   ],
   "source": [
    "print(\"I like Computer Science\",\"I am a programmer\",\"Good Bye...\",end='')"
   ]
  },
  {
   "cell_type": "markdown",
   "metadata": {},
   "source": [
    "<p>In above example we have seen some functionality of the python's print <i><b>built in</b></i> Function. what <b>\"sep\"</b> argument does is it adds string between the two or more string values where default is a space. What <b>\"end\"</b> does is it appended string after the last value where default is a newline.</p> "
   ]
  },
  {
   "cell_type": "markdown",
   "metadata": {},
   "source": [
    "<p>Now we will see how python takes the values from standered input or how it take the input from the user.</p> "
   ]
  },
  {
   "cell_type": "code",
   "execution_count": 13,
   "metadata": {},
   "outputs": [
    {
     "name": "stdout",
     "output_type": "stream",
     "text": [
      "4\n"
     ]
    },
    {
     "data": {
      "text/plain": [
       "'4'"
      ]
     },
     "execution_count": 13,
     "metadata": {},
     "output_type": "execute_result"
    }
   ],
   "source": [
    "input()"
   ]
  },
  {
   "cell_type": "markdown",
   "metadata": {},
   "source": [
    "<p>This the most simplest functionality of the input <i><b>built in</b></i> Function. We will discuss other functionality in the future. Finally, i dedicate my first article to all known and unknown python genious over intenet who helped me directly or undirectly.</p>"
   ]
  },
  {
   "cell_type": "markdown",
   "metadata": {},
   "source": [
    "<summary>Summary:<p>In the above post we have seen some fetures of Python Language and some basics about the Language. We have also seen the two important necessary Python built in functions namely Print() and input(). In the next Post i will append more to the Python World</p></summary>"
   ]
  }
 ],
 "metadata": {
  "kernelspec": {
   "display_name": "Python 3",
   "language": "python",
   "name": "python3"
  },
  "language_info": {
   "codemirror_mode": {
    "name": "ipython",
    "version": 3
   },
   "file_extension": ".py",
   "mimetype": "text/x-python",
   "name": "python",
   "nbconvert_exporter": "python",
   "pygments_lexer": "ipython3",
   "version": "3.6.1"
  }
 },
 "nbformat": 4,
 "nbformat_minor": 2
}
